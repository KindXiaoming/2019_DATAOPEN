{
 "cells": [
  {
   "cell_type": "code",
   "execution_count": 45,
   "metadata": {},
   "outputs": [],
   "source": [
    "# This notebook saves which concrete features from world bank contribute most to the abstract features.\n",
    "\n",
    "import numpy as np\n",
    "import pandas as pd\n",
    "\n",
    "data_dir = \"../Data/New_ae/b_ae_10.txt\"\n",
    "#data_dir = \"../Data/New_ae/b_ae_10_pca_6_grad.txt\"\n",
    "data = np.loadtxt(data_dir)\n"
   ]
  },
  {
   "cell_type": "code",
   "execution_count": 46,
   "metadata": {},
   "outputs": [
    {
     "data": {
      "text/plain": [
       "(183, 10)"
      ]
     },
     "execution_count": 46,
     "metadata": {},
     "output_type": "execute_result"
    }
   ],
   "source": [
    "data.shape"
   ]
  },
  {
   "cell_type": "code",
   "execution_count": 38,
   "metadata": {},
   "outputs": [],
   "source": [
    "#data_dir = \"../Data/New_ae/b_ae_10_grad.txt\"\n",
    "data_dir = \"../Data/New_ae/b_ae_10_pca_6_grad.txt\"\n",
    "data_grad = np.loadtxt(data_dir)"
   ]
  },
  {
   "cell_type": "code",
   "execution_count": 39,
   "metadata": {},
   "outputs": [
    {
     "data": {
      "text/plain": [
       "(6, 1170)"
      ]
     },
     "execution_count": 39,
     "metadata": {},
     "output_type": "execute_result"
    }
   ],
   "source": [
    "data_grad.shape"
   ]
  },
  {
   "cell_type": "code",
   "execution_count": 40,
   "metadata": {},
   "outputs": [],
   "source": [
    "data_dir = \"../Data/Consumption/world_bank_merge.csv\"\n",
    "items = pd.read_csv(data_dir).columns[1:]"
   ]
  },
  {
   "cell_type": "code",
   "execution_count": 44,
   "metadata": {},
   "outputs": [],
   "source": [
    "for i in range(6):\n",
    "    dic = {\"items\":items, \"comp\":data_grad[i]}\n",
    "    pd.DataFrame(dic).sort_values(by=[\"comp\"]).to_csv(\"../Data/New_ae/Feature_selection/\"+str(i+1)+\".csv\")\n",
    "    "
   ]
  }
 ],
 "metadata": {
  "kernelspec": {
   "display_name": "Python 3",
   "language": "python",
   "name": "python3"
  },
  "language_info": {
   "codemirror_mode": {
    "name": "ipython",
    "version": 3
   },
   "file_extension": ".py",
   "mimetype": "text/x-python",
   "name": "python",
   "nbconvert_exporter": "python",
   "pygments_lexer": "ipython3",
   "version": "3.6.5"
  }
 },
 "nbformat": 4,
 "nbformat_minor": 2
}
