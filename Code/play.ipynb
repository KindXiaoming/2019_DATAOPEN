{
 "cells": [
  {
   "cell_type": "code",
   "execution_count": 7,
   "metadata": {},
   "outputs": [],
   "source": [
    "############This notebook looks at data from different datasets to get the first feel of it.\n",
    "\n",
    "import numpy as np\n",
    "import matplotlib.pyplot as plt\n",
    "import pandas as pd\n",
    "\n",
    "data_dir = \"../Datasets/connectivity.csv\"\n",
    "connect = pd.read_csv(data_dir, nrows=2)\n"
   ]
  },
  {
   "cell_type": "code",
   "execution_count": 8,
   "metadata": {},
   "outputs": [
    {
     "data": {
      "text/plain": [
       "Index(['country_code', 'statistic', '2000', '2001', '2002', '2003', '2004',\n",
       "       '2005', '2006', '2007', '2008', '2009', '2010', '2011', '2012', '2013',\n",
       "       '2014', '2015', '2016', '2017'],\n",
       "      dtype='object')"
      ]
     },
     "execution_count": 8,
     "metadata": {},
     "output_type": "execute_result"
    }
   ],
   "source": [
    "connect.keys()"
   ]
  },
  {
   "cell_type": "markdown",
   "metadata": {},
   "source": [
    "Shape : country\\*connect_way(3)\\*year(2000-2017)"
   ]
  },
  {
   "cell_type": "code",
   "execution_count": 12,
   "metadata": {},
   "outputs": [],
   "source": [
    "data_dir = \"../Datasets/consumption.csv\"\n",
    "consump = pd.read_csv(data_dir, nrows=2)"
   ]
  },
  {
   "cell_type": "code",
   "execution_count": 11,
   "metadata": {
    "scrolled": true
   },
   "outputs": [
    {
     "data": {
      "text/plain": [
       "Index(['country_code', 'area', 'product', 'value', 'exchange_rate',\n",
       "       'consumption_segment', 'indicator', 'ppp_conversion_factor', 'unit'],\n",
       "      dtype='object')"
      ]
     },
     "execution_count": 11,
     "metadata": {},
     "output_type": "execute_result"
    }
   ],
   "source": [
    "consump.keys()"
   ]
  },
  {
   "cell_type": "markdown",
   "metadata": {},
   "source": [
    "Shape: country\\*area\\*product\\*consumption\\*indicator"
   ]
  },
  {
   "cell_type": "code",
   "execution_count": 14,
   "metadata": {},
   "outputs": [
    {
     "data": {
      "text/html": [
       "<div>\n",
       "<style scoped>\n",
       "    .dataframe tbody tr th:only-of-type {\n",
       "        vertical-align: middle;\n",
       "    }\n",
       "\n",
       "    .dataframe tbody tr th {\n",
       "        vertical-align: top;\n",
       "    }\n",
       "\n",
       "    .dataframe thead th {\n",
       "        text-align: right;\n",
       "    }\n",
       "</style>\n",
       "<table border=\"1\" class=\"dataframe\">\n",
       "  <thead>\n",
       "    <tr style=\"text-align: right;\">\n",
       "      <th></th>\n",
       "      <th>country_code</th>\n",
       "      <th>year</th>\n",
       "      <th>Adolescent fertility rate (births per 1,000 women ages 15-19)</th>\n",
       "      <th>Adults (ages 15+) and children (ages 0-14) newly infected with HIV</th>\n",
       "      <th>Adults (ages 15+) newly infected with HIV</th>\n",
       "      <th>Age dependency ratio (% of working-age population)</th>\n",
       "      <th>Age dependency ratio, old (% of working-age population)</th>\n",
       "      <th>Age dependency ratio, young (% of working-age population)</th>\n",
       "      <th>Antiretroviral therapy coverage (% of people living with HIV)</th>\n",
       "      <th>Antiretroviral therapy coverage for PMTCT (% of pregnant women living with HIV)</th>\n",
       "      <th>...</th>\n",
       "      <th>Wanted fertility rate (births per woman)</th>\n",
       "      <th>Women who believe a husband is justified in beating his wife (any of five reasons) (%)</th>\n",
       "      <th>Women who believe a husband is justified in beating his wife when she argues with him (%)</th>\n",
       "      <th>Women who believe a husband is justified in beating his wife when she burns the food (%)</th>\n",
       "      <th>Women who believe a husband is justified in beating his wife when she goes out without telling him (%)</th>\n",
       "      <th>Women who believe a husband is justified in beating his wife when she neglects the children (%)</th>\n",
       "      <th>Women who believe a husband is justified in beating his wife when she refuses sex with him (%)</th>\n",
       "      <th>Women who were first married by age 15 (% of women ages 20-24)</th>\n",
       "      <th>Women who were first married by age 18 (% of women ages 20-24)</th>\n",
       "      <th>Women's share of population ages 15+ living with HIV (%)</th>\n",
       "    </tr>\n",
       "  </thead>\n",
       "  <tbody>\n",
       "    <tr>\n",
       "      <th>0</th>\n",
       "      <td>ARG</td>\n",
       "      <td>1969</td>\n",
       "      <td>63.5602</td>\n",
       "      <td>NaN</td>\n",
       "      <td>NaN</td>\n",
       "      <td>57.035651</td>\n",
       "      <td>10.801858</td>\n",
       "      <td>46.233793</td>\n",
       "      <td>NaN</td>\n",
       "      <td>NaN</td>\n",
       "      <td>...</td>\n",
       "      <td>NaN</td>\n",
       "      <td>NaN</td>\n",
       "      <td>NaN</td>\n",
       "      <td>NaN</td>\n",
       "      <td>NaN</td>\n",
       "      <td>NaN</td>\n",
       "      <td>NaN</td>\n",
       "      <td>NaN</td>\n",
       "      <td>NaN</td>\n",
       "      <td>NaN</td>\n",
       "    </tr>\n",
       "    <tr>\n",
       "      <th>1</th>\n",
       "      <td>ARG</td>\n",
       "      <td>1970</td>\n",
       "      <td>65.1408</td>\n",
       "      <td>NaN</td>\n",
       "      <td>NaN</td>\n",
       "      <td>57.020471</td>\n",
       "      <td>11.022459</td>\n",
       "      <td>45.998012</td>\n",
       "      <td>NaN</td>\n",
       "      <td>NaN</td>\n",
       "      <td>...</td>\n",
       "      <td>NaN</td>\n",
       "      <td>NaN</td>\n",
       "      <td>NaN</td>\n",
       "      <td>NaN</td>\n",
       "      <td>NaN</td>\n",
       "      <td>NaN</td>\n",
       "      <td>NaN</td>\n",
       "      <td>NaN</td>\n",
       "      <td>NaN</td>\n",
       "      <td>NaN</td>\n",
       "    </tr>\n",
       "  </tbody>\n",
       "</table>\n",
       "<p>2 rows × 246 columns</p>\n",
       "</div>"
      ],
      "text/plain": [
       "  country_code  year  \\\n",
       "0          ARG  1969   \n",
       "1          ARG  1970   \n",
       "\n",
       "   Adolescent fertility rate (births per 1,000 women ages 15-19)  \\\n",
       "0                                            63.5602               \n",
       "1                                            65.1408               \n",
       "\n",
       "   Adults (ages 15+) and children (ages 0-14) newly infected with HIV  \\\n",
       "0                                                NaN                    \n",
       "1                                                NaN                    \n",
       "\n",
       "   Adults (ages 15+) newly infected with HIV  \\\n",
       "0                                        NaN   \n",
       "1                                        NaN   \n",
       "\n",
       "   Age dependency ratio (% of working-age population)  \\\n",
       "0                                          57.035651    \n",
       "1                                          57.020471    \n",
       "\n",
       "   Age dependency ratio, old (% of working-age population)  \\\n",
       "0                                          10.801858         \n",
       "1                                          11.022459         \n",
       "\n",
       "   Age dependency ratio, young (% of working-age population)  \\\n",
       "0                                          46.233793           \n",
       "1                                          45.998012           \n",
       "\n",
       "   Antiretroviral therapy coverage (% of people living with HIV)  \\\n",
       "0                                                NaN               \n",
       "1                                                NaN               \n",
       "\n",
       "   Antiretroviral therapy coverage for PMTCT (% of pregnant women living with HIV)  \\\n",
       "0                                                NaN                                 \n",
       "1                                                NaN                                 \n",
       "\n",
       "                             ...                             \\\n",
       "0                            ...                              \n",
       "1                            ...                              \n",
       "\n",
       "   Wanted fertility rate (births per woman)  \\\n",
       "0                                       NaN   \n",
       "1                                       NaN   \n",
       "\n",
       "   Women who believe a husband is justified in beating his wife (any of five reasons) (%)  \\\n",
       "0                                                NaN                                        \n",
       "1                                                NaN                                        \n",
       "\n",
       "   Women who believe a husband is justified in beating his wife when she argues with him (%)  \\\n",
       "0                                                NaN                                           \n",
       "1                                                NaN                                           \n",
       "\n",
       "   Women who believe a husband is justified in beating his wife when she burns the food (%)  \\\n",
       "0                                                NaN                                          \n",
       "1                                                NaN                                          \n",
       "\n",
       "   Women who believe a husband is justified in beating his wife when she goes out without telling him (%)  \\\n",
       "0                                                NaN                                                        \n",
       "1                                                NaN                                                        \n",
       "\n",
       "   Women who believe a husband is justified in beating his wife when she neglects the children (%)  \\\n",
       "0                                                NaN                                                 \n",
       "1                                                NaN                                                 \n",
       "\n",
       "   Women who believe a husband is justified in beating his wife when she refuses sex with him (%)  \\\n",
       "0                                                NaN                                                \n",
       "1                                                NaN                                                \n",
       "\n",
       "   Women who were first married by age 15 (% of women ages 20-24)  \\\n",
       "0                                                NaN                \n",
       "1                                                NaN                \n",
       "\n",
       "   Women who were first married by age 18 (% of women ages 20-24)  \\\n",
       "0                                                NaN                \n",
       "1                                                NaN                \n",
       "\n",
       "   Women's share of population ages 15+ living with HIV (%)  \n",
       "0                                                NaN         \n",
       "1                                                NaN         \n",
       "\n",
       "[2 rows x 246 columns]"
      ]
     },
     "execution_count": 14,
     "metadata": {},
     "output_type": "execute_result"
    }
   ],
   "source": [
    "data_dir = \"../Datasets/health_indicators.csv\"\n",
    "health_id = pd.read_csv(data_dir, nrows=2)\n",
    "pd.read_csv(data_dir, nrows=2)"
   ]
  },
  {
   "cell_type": "code",
   "execution_count": 15,
   "metadata": {},
   "outputs": [
    {
     "data": {
      "text/plain": [
       "Index(['country_code', 'year',\n",
       "       'Adolescent fertility rate (births per 1,000 women ages 15-19)',\n",
       "       'Adults (ages 15+) and children (ages 0-14) newly infected with HIV',\n",
       "       'Adults (ages 15+) newly infected with HIV',\n",
       "       'Age dependency ratio (% of working-age population)',\n",
       "       'Age dependency ratio, old (% of working-age population)',\n",
       "       'Age dependency ratio, young (% of working-age population)',\n",
       "       'Antiretroviral therapy coverage (% of people living with HIV)',\n",
       "       'Antiretroviral therapy coverage for PMTCT (% of pregnant women living with HIV)',\n",
       "       ...\n",
       "       'Wanted fertility rate (births per woman)',\n",
       "       'Women who believe a husband is justified in beating his wife (any of five reasons) (%)',\n",
       "       'Women who believe a husband is justified in beating his wife when she argues with him (%)',\n",
       "       'Women who believe a husband is justified in beating his wife when she burns the food (%)',\n",
       "       'Women who believe a husband is justified in beating his wife when she goes out without telling him (%)',\n",
       "       'Women who believe a husband is justified in beating his wife when she neglects the children (%)',\n",
       "       'Women who believe a husband is justified in beating his wife when she refuses sex with him (%)',\n",
       "       'Women who were first married by age 15 (% of women ages 20-24)',\n",
       "       'Women who were first married by age 18 (% of women ages 20-24)',\n",
       "       'Women's share of population ages 15+ living with HIV (%)'],\n",
       "      dtype='object', length=246)"
      ]
     },
     "execution_count": 15,
     "metadata": {},
     "output_type": "execute_result"
    }
   ],
   "source": [
    "health_id.keys()"
   ]
  },
  {
   "cell_type": "markdown",
   "metadata": {},
   "source": [
    "Shape: country year indicator"
   ]
  },
  {
   "cell_type": "code",
   "execution_count": 17,
   "metadata": {},
   "outputs": [
    {
     "data": {
      "text/html": [
       "<div>\n",
       "<style scoped>\n",
       "    .dataframe tbody tr th:only-of-type {\n",
       "        vertical-align: middle;\n",
       "    }\n",
       "\n",
       "    .dataframe tbody tr th {\n",
       "        vertical-align: top;\n",
       "    }\n",
       "\n",
       "    .dataframe thead th {\n",
       "        text-align: right;\n",
       "    }\n",
       "</style>\n",
       "<table border=\"1\" class=\"dataframe\">\n",
       "  <thead>\n",
       "    <tr style=\"text-align: right;\">\n",
       "      <th></th>\n",
       "      <th>country_code</th>\n",
       "      <th>statistic</th>\n",
       "      <th>1980</th>\n",
       "      <th>1981</th>\n",
       "      <th>1982</th>\n",
       "      <th>1983</th>\n",
       "      <th>1984</th>\n",
       "      <th>1985</th>\n",
       "      <th>1986</th>\n",
       "      <th>1987</th>\n",
       "      <th>...</th>\n",
       "      <th>2008</th>\n",
       "      <th>2009</th>\n",
       "      <th>2010</th>\n",
       "      <th>2011</th>\n",
       "      <th>2012</th>\n",
       "      <th>2013</th>\n",
       "      <th>2014</th>\n",
       "      <th>2015</th>\n",
       "      <th>2016</th>\n",
       "      <th>2017</th>\n",
       "    </tr>\n",
       "  </thead>\n",
       "  <tbody>\n",
       "    <tr>\n",
       "      <th>0</th>\n",
       "      <td>AFG</td>\n",
       "      <td>BCG immunization coverage among 1-year-olds (%)</td>\n",
       "      <td>NaN</td>\n",
       "      <td>NaN</td>\n",
       "      <td>10.0</td>\n",
       "      <td>10.0</td>\n",
       "      <td>11.0</td>\n",
       "      <td>17.0</td>\n",
       "      <td>18.0</td>\n",
       "      <td>27.0</td>\n",
       "      <td>...</td>\n",
       "      <td>66</td>\n",
       "      <td>64</td>\n",
       "      <td>68</td>\n",
       "      <td>71</td>\n",
       "      <td>78</td>\n",
       "      <td>72</td>\n",
       "      <td>74</td>\n",
       "      <td>74</td>\n",
       "      <td>74</td>\n",
       "      <td>74</td>\n",
       "    </tr>\n",
       "    <tr>\n",
       "      <th>1</th>\n",
       "      <td>AFG</td>\n",
       "      <td>Measles-containing-vaccine second-dose (MCV2) ...</td>\n",
       "      <td>NaN</td>\n",
       "      <td>NaN</td>\n",
       "      <td>NaN</td>\n",
       "      <td>NaN</td>\n",
       "      <td>NaN</td>\n",
       "      <td>NaN</td>\n",
       "      <td>NaN</td>\n",
       "      <td>NaN</td>\n",
       "      <td>...</td>\n",
       "      <td>23</td>\n",
       "      <td>24</td>\n",
       "      <td>29</td>\n",
       "      <td>31</td>\n",
       "      <td>33</td>\n",
       "      <td>35</td>\n",
       "      <td>39</td>\n",
       "      <td>39</td>\n",
       "      <td>39</td>\n",
       "      <td>39</td>\n",
       "    </tr>\n",
       "  </tbody>\n",
       "</table>\n",
       "<p>2 rows × 40 columns</p>\n",
       "</div>"
      ],
      "text/plain": [
       "  country_code                                          statistic  1980  1981  \\\n",
       "0          AFG    BCG immunization coverage among 1-year-olds (%)   NaN   NaN   \n",
       "1          AFG  Measles-containing-vaccine second-dose (MCV2) ...   NaN   NaN   \n",
       "\n",
       "   1982  1983  1984  1985  1986  1987  ...   2008  2009  2010  2011  2012  \\\n",
       "0  10.0  10.0  11.0  17.0  18.0  27.0  ...     66    64    68    71    78   \n",
       "1   NaN   NaN   NaN   NaN   NaN   NaN  ...     23    24    29    31    33   \n",
       "\n",
       "   2013  2014  2015  2016  2017  \n",
       "0    72    74    74    74    74  \n",
       "1    35    39    39    39    39  \n",
       "\n",
       "[2 rows x 40 columns]"
      ]
     },
     "execution_count": 17,
     "metadata": {},
     "output_type": "execute_result"
    }
   ],
   "source": [
    "data_dir = \"../Datasets/immunization.csv\"\n",
    "immun = pd.read_csv(data_dir, nrows=2)\n",
    "immun"
   ]
  },
  {
   "cell_type": "markdown",
   "metadata": {},
   "source": [
    "Shape: country disease year (1980-2017)"
   ]
  },
  {
   "cell_type": "code",
   "execution_count": null,
   "metadata": {},
   "outputs": [],
   "source": []
  }
 ],
 "metadata": {
  "kernelspec": {
   "display_name": "Python 3",
   "language": "python",
   "name": "python3"
  },
  "language_info": {
   "codemirror_mode": {
    "name": "ipython",
    "version": 3
   },
   "file_extension": ".py",
   "mimetype": "text/x-python",
   "name": "python",
   "nbconvert_exporter": "python",
   "pygments_lexer": "ipython3",
   "version": "3.6.5"
  }
 },
 "nbformat": 4,
 "nbformat_minor": 2
}
