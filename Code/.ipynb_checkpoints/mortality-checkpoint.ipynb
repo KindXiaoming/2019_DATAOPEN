{
 "cells": [
  {
   "cell_type": "code",
   "execution_count": 16,
   "metadata": {},
   "outputs": [],
   "source": [
    "##########This notebook looks at tables of mortality\n",
    "\n",
    "import numpy as np\n",
    "import matplotlib.pyplot as plt\n",
    "import pandas as pd\n",
    "from scipy.fftpack import fft\n",
    "\n",
    "data_dir = \"../Datasets/mortality.csv\"\n",
    "mort = pd.read_csv(data_dir)"
   ]
  },
  {
   "cell_type": "code",
   "execution_count": 23,
   "metadata": {},
   "outputs": [],
   "source": [
    "mort = mort[mort[\"year\"]>1999]\n",
    "country = mort[\"country_code\"]\n",
    "mort = mort[mort[\"cause_code\"].str.startswith(\"A\" or \"B\")]\n",
    "#mort2 = mort.filter(regex=(\"deaths*\"));\n"
   ]
  },
  {
   "cell_type": "code",
   "execution_count": 31,
   "metadata": {},
   "outputs": [],
   "source": [
    "for i in range(26):\n",
    "    if i==0:\n",
    "        st = mort.groupby('country_code')[\"deaths1\"].sum()\n",
    "    else:\n",
    "        st += mort.groupby('country_code')[\"deaths\"+str(i+1)].sum()"
   ]
  },
  {
   "cell_type": "code",
   "execution_count": 34,
   "metadata": {},
   "outputs": [
    {
     "data": {
      "text/plain": [
       "country_code\n",
       "ABW        590.0\n",
       "AIA         54.0\n",
       "ANT         30.0\n",
       "ARG     369042.0\n",
       "ARM       2082.0\n",
       "ATG        442.0\n",
       "AUS      44782.0\n",
       "AUT       7092.0\n",
       "AZE        288.0\n",
       "BEL      52892.0\n",
       "BGR       9242.0\n",
       "BHR       1260.0\n",
       "BHS       1164.0\n",
       "BIH        864.0\n",
       "BLZ       1016.0\n",
       "BMU        192.0\n",
       "BOL       6146.0\n",
       "BRA     830546.0\n",
       "BRB       2494.0\n",
       "BRN        630.0\n",
       "CAN      98776.0\n",
       "CHE      10236.0\n",
       "CHL      24780.0\n",
       "COL      83272.0\n",
       "CPV        398.0\n",
       "CRI       4252.0\n",
       "CUB      12078.0\n",
       "CYM         74.0\n",
       "CYP       1554.0\n",
       "CZE      28188.0\n",
       "         ...    \n",
       "PRT      30204.0\n",
       "PRY      19870.0\n",
       "PSE       3852.0\n",
       "QAT        444.0\n",
       "REU       1788.0\n",
       "ROU      49368.0\n",
       "SAU       4848.0\n",
       "SCG       1576.0\n",
       "SGP        702.0\n",
       "SLV      28330.0\n",
       "SRB      10912.0\n",
       "SUR       1944.0\n",
       "SVK       6402.0\n",
       "SVN       3140.0\n",
       "SWE      34250.0\n",
       "SYR       2904.0\n",
       "TCA         28.0\n",
       "THA     834024.0\n",
       "TJK       1278.0\n",
       "TTO       3350.0\n",
       "TUN       1676.0\n",
       "TUR      69356.0\n",
       "URY      11954.0\n",
       "USA    1506166.0\n",
       "UZB      37068.0\n",
       "VCT        964.0\n",
       "VEN      62046.0\n",
       "VGB         46.0\n",
       "VIR        366.0\n",
       "ZAF    1206360.0\n",
       "Name: deaths1, Length: 127, dtype: float64"
      ]
     },
     "execution_count": 34,
     "metadata": {},
     "output_type": "execute_result"
    }
   ],
   "source": [
    "st"
   ]
  },
  {
   "cell_type": "code",
   "execution_count": null,
   "metadata": {},
   "outputs": [],
   "source": []
  }
 ],
 "metadata": {
  "kernelspec": {
   "display_name": "Python 3",
   "language": "python",
   "name": "python3"
  },
  "language_info": {
   "codemirror_mode": {
    "name": "ipython",
    "version": 3
   },
   "file_extension": ".py",
   "mimetype": "text/x-python",
   "name": "python",
   "nbconvert_exporter": "python",
   "pygments_lexer": "ipython3",
   "version": "3.6.5"
  }
 },
 "nbformat": 4,
 "nbformat_minor": 2
}
